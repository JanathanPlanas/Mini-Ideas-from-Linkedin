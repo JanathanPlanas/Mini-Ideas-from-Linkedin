{
 "cells": [
  {
   "cell_type": "markdown",
   "id": "46b90b75",
   "metadata": {},
   "source": [
    "pip install prettytable"
   ]
  },
  {
   "cell_type": "code",
   "execution_count": 11,
   "id": "164c5684",
   "metadata": {},
   "outputs": [],
   "source": [
    "from prettytable import PrettyTable\n",
    "import pandas as pd"
   ]
  },
  {
   "cell_type": "code",
   "execution_count": 7,
   "id": "b6d57b55",
   "metadata": {},
   "outputs": [],
   "source": [
    "table= PrettyTable(['Name','Age','Job','loc','Gender','Status'])"
   ]
  },
  {
   "cell_type": "code",
   "execution_count": 8,
   "id": "8015040a",
   "metadata": {},
   "outputs": [],
   "source": [
    "table.add_row(['Charles',25,'Eng.Sof','Office','Male','Married'])\n",
    "table.add_row(['Janathan',32,'Eng.Sof','Home','Male','Single'])\n",
    "table.add_row(['Sheila',44,'Manager','Outside','Female','Married'])\n",
    "table.add_row(['Amanda',28,'Eng.dev','Office','Female','Married'])\n",
    "table.add_row(['Bruno',35,'Office Manager','Home','Male','Single'])"
   ]
  },
  {
   "cell_type": "code",
   "execution_count": 15,
   "id": "1b4c034e",
   "metadata": {},
   "outputs": [
    {
     "name": "stdout",
     "output_type": "stream",
     "text": [
      "+----------+-----+----------------+---------+--------+---------+\n",
      "|   Name   | Age |      Job       |   loc   | Gender |  Status |\n",
      "+----------+-----+----------------+---------+--------+---------+\n",
      "| Charles  |  25 |    Eng.Sof     |  Office |  Male  | Married |\n",
      "| Janathan |  32 |    Eng.Sof     |   Home  |  Male  |  Single |\n",
      "|  Sheila  |  44 |    Manager     | Outside | Female | Married |\n",
      "|  Amanda  |  28 |    Eng.dev     |  Office | Female | Married |\n",
      "|  Bruno   |  35 | Office Manager |   Home  |  Male  |  Single |\n",
      "+----------+-----+----------------+---------+--------+---------+\n"
     ]
    }
   ],
   "source": [
    "print(table)"
   ]
  },
  {
   "cell_type": "code",
   "execution_count": null,
   "id": "f57969ba",
   "metadata": {},
   "outputs": [],
   "source": []
  }
 ],
 "metadata": {
  "kernelspec": {
   "display_name": "Python 3 (ipykernel)",
   "language": "python",
   "name": "python3"
  },
  "language_info": {
   "codemirror_mode": {
    "name": "ipython",
    "version": 3
   },
   "file_extension": ".py",
   "mimetype": "text/x-python",
   "name": "python",
   "nbconvert_exporter": "python",
   "pygments_lexer": "ipython3",
   "version": "3.8.8"
  }
 },
 "nbformat": 4,
 "nbformat_minor": 5
}
